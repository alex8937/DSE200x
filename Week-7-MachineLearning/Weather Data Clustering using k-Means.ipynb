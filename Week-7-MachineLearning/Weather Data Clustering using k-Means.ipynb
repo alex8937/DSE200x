{
 "cells": [
  {
   "cell_type": "markdown",
   "metadata": {},
   "source": [
    "<p style=\"font-family: Arial; font-size:2.75em;color:purple; font-style:bold\"><br>\n",
    "\n",
    "Clustering with scikit-learn\n",
    "\n",
    "<br><br></p>"
   ]
  },
  {
   "cell_type": "markdown",
   "metadata": {},
   "source": [
    "In this notebook, we will learn how to perform k-means lustering using scikit-learn in Python. \n",
    "\n",
    "We will use cluster analysis to generate a big picture model of the weather at a local station using a minute-graunlarity data. In this dataset, we have in the order of millions records. How do we create 12 clusters our of them?\n",
    "\n",
    "**NOTE:** The dataset we will use is in a large CSV file called *minute_weather.csv*. Please download it into the *weather* directory in your *Week-7-MachineLearning* folder. The download link is: https://drive.google.com/open?id=0B8iiZ7pSaSFZb3ItQ1l4LWRMTjg "
   ]
  },
  {
   "cell_type": "markdown",
   "metadata": {},
   "source": [
    "<p style=\"font-family: Arial; font-size:1.75em;color:purple; font-style:bold\"><br>\n",
    "\n",
    "Importing the Necessary Libraries<br></p>"
   ]
  },
  {
   "cell_type": "code",
   "execution_count": 1,
   "metadata": {
    "collapsed": true
   },
   "outputs": [],
   "source": [
    "from sklearn.preprocessing import StandardScaler\n",
    "from sklearn.cluster import KMeans\n",
    "import utils\n",
    "import pandas as pd\n",
    "import numpy as np\n",
    "from itertools import cycle, islice\n",
    "import matplotlib.pyplot as plt\n",
    "from pandas.tools.plotting import parallel_coordinates\n",
    "\n",
    "%matplotlib inline"
   ]
  },
  {
   "cell_type": "markdown",
   "metadata": {},
   "source": [
    "<p style=\"font-family: Arial; font-size:1.75em;color:purple; font-style:bold\"><br>\n",
    "\n",
    "Creating a Pandas DataFrame from a CSV file<br><br></p>\n"
   ]
  },
  {
   "cell_type": "code",
   "execution_count": 2,
   "metadata": {
    "collapsed": true
   },
   "outputs": [],
   "source": [
    "data = pd.read_csv('./weather/minute_weather.csv')"
   ]
  },
  {
   "cell_type": "markdown",
   "metadata": {},
   "source": [
    "<p style=\"font-family: Arial; font-size:1.75em;color:purple; font-style:bold\">Minute Weather Data Description</p>\n",
    "<br>\n",
    "The **minute weather dataset** comes from the same source as the daily weather dataset that we used in the decision tree based classifier notebook. The main difference between these two datasets is that the minute weather dataset contains raw sensor measurements captured at one-minute intervals. Daily weather dataset instead contained processed and well curated data. The data is in the file **minute_weather.csv**, which is a comma-separated file.\n",
    "\n",
    "As with the daily weather data, this data comes from a weather station located in San Diego, California. The weather station is equipped with sensors that capture weather-related measurements such as air temperature, air pressure, and relative humidity. Data was collected for a period of three years, from September 2011 to September 2014, to ensure that sufficient data for different seasons and weather conditions is captured.\n",
    "\n",
    "Each row in **minute_weather.csv** contains weather data captured for a one-minute interval. Each row, or sample, consists of the following variables:\n",
    "\n",
    "* **rowID:** \tunique number for each row\t(*Unit: NA*)\n",
    "* **hpwren_timestamp:**\ttimestamp of measure\t(*Unit: year-month-day hour:minute:second*)\n",
    "* **air_pressure:** air pressure measured at the timestamp\t(*Unit: hectopascals*)\n",
    "* **air_temp:**\tair temperature measure at the timestamp\t(*Unit: degrees Fahrenheit*)\n",
    "* **avg_wind_direction:**\twind direction averaged over the minute before the timestamp\t(*Unit: degrees, with 0 means coming from the North, and increasing clockwise*)\n",
    "* **avg_wind_speed:**\twind speed averaged over the minute before the timestamp\t(*Unit: meters per second*)\n",
    "* **max_wind_direction:**\thighest wind direction in the minute before the timestamp\t(*Unit: degrees, with 0 being North and increasing clockwise*)\n",
    "* **max_wind_speed:**\thighest wind speed in the minute before the timestamp\t(*Unit: meters per second*)\n",
    "* **min_wind_direction:**\tsmallest wind direction in the minute before the timestamp\t(*Unit: degrees, with 0 being North and inceasing clockwise*)\n",
    "* **min_wind_speed:**\tsmallest wind speed in the minute before the timestamp\t(*Unit: meters per second*)\n",
    "* **rain_accumulation:**\tamount of accumulated rain measured at the timestamp\t(*Unit: millimeters*)\n",
    "* **rain_duration:**\tlength of time rain has fallen as measured at the timestamp\t(*Unit: seconds*)\n",
    "* **relative_humidity:**\trelative humidity measured at the timestamp\t(*Unit: percent*)"
   ]
  },
  {
   "cell_type": "code",
   "execution_count": 3,
   "metadata": {},
   "outputs": [
    {
     "data": {
      "text/plain": [
       "(1587257, 13)"
      ]
     },
     "execution_count": 3,
     "metadata": {},
     "output_type": "execute_result"
    }
   ],
   "source": [
    "data.shape"
   ]
  },
  {
   "cell_type": "code",
   "execution_count": 4,
   "metadata": {
    "scrolled": true
   },
   "outputs": [
    {
     "data": {
      "text/html": [
       "<div>\n",
       "<style>\n",
       "    .dataframe thead tr:only-child th {\n",
       "        text-align: right;\n",
       "    }\n",
       "\n",
       "    .dataframe thead th {\n",
       "        text-align: left;\n",
       "    }\n",
       "\n",
       "    .dataframe tbody tr th {\n",
       "        vertical-align: top;\n",
       "    }\n",
       "</style>\n",
       "<table border=\"1\" class=\"dataframe\">\n",
       "  <thead>\n",
       "    <tr style=\"text-align: right;\">\n",
       "      <th></th>\n",
       "      <th>rowID</th>\n",
       "      <th>hpwren_timestamp</th>\n",
       "      <th>air_pressure</th>\n",
       "      <th>air_temp</th>\n",
       "      <th>avg_wind_direction</th>\n",
       "      <th>avg_wind_speed</th>\n",
       "      <th>max_wind_direction</th>\n",
       "      <th>max_wind_speed</th>\n",
       "      <th>min_wind_direction</th>\n",
       "      <th>min_wind_speed</th>\n",
       "      <th>rain_accumulation</th>\n",
       "      <th>rain_duration</th>\n",
       "      <th>relative_humidity</th>\n",
       "    </tr>\n",
       "  </thead>\n",
       "  <tbody>\n",
       "    <tr>\n",
       "      <th>0</th>\n",
       "      <td>0</td>\n",
       "      <td>2011-09-10 00:00:49</td>\n",
       "      <td>912.3</td>\n",
       "      <td>64.76</td>\n",
       "      <td>97.0</td>\n",
       "      <td>1.2</td>\n",
       "      <td>106.0</td>\n",
       "      <td>1.6</td>\n",
       "      <td>85.0</td>\n",
       "      <td>1.0</td>\n",
       "      <td>NaN</td>\n",
       "      <td>NaN</td>\n",
       "      <td>60.5</td>\n",
       "    </tr>\n",
       "    <tr>\n",
       "      <th>1</th>\n",
       "      <td>1</td>\n",
       "      <td>2011-09-10 00:01:49</td>\n",
       "      <td>912.3</td>\n",
       "      <td>63.86</td>\n",
       "      <td>161.0</td>\n",
       "      <td>0.8</td>\n",
       "      <td>215.0</td>\n",
       "      <td>1.5</td>\n",
       "      <td>43.0</td>\n",
       "      <td>0.2</td>\n",
       "      <td>0.0</td>\n",
       "      <td>0.0</td>\n",
       "      <td>39.9</td>\n",
       "    </tr>\n",
       "    <tr>\n",
       "      <th>2</th>\n",
       "      <td>2</td>\n",
       "      <td>2011-09-10 00:02:49</td>\n",
       "      <td>912.3</td>\n",
       "      <td>64.22</td>\n",
       "      <td>77.0</td>\n",
       "      <td>0.7</td>\n",
       "      <td>143.0</td>\n",
       "      <td>1.2</td>\n",
       "      <td>324.0</td>\n",
       "      <td>0.3</td>\n",
       "      <td>0.0</td>\n",
       "      <td>0.0</td>\n",
       "      <td>43.0</td>\n",
       "    </tr>\n",
       "    <tr>\n",
       "      <th>3</th>\n",
       "      <td>3</td>\n",
       "      <td>2011-09-10 00:03:49</td>\n",
       "      <td>912.3</td>\n",
       "      <td>64.40</td>\n",
       "      <td>89.0</td>\n",
       "      <td>1.2</td>\n",
       "      <td>112.0</td>\n",
       "      <td>1.6</td>\n",
       "      <td>12.0</td>\n",
       "      <td>0.7</td>\n",
       "      <td>0.0</td>\n",
       "      <td>0.0</td>\n",
       "      <td>49.5</td>\n",
       "    </tr>\n",
       "    <tr>\n",
       "      <th>4</th>\n",
       "      <td>4</td>\n",
       "      <td>2011-09-10 00:04:49</td>\n",
       "      <td>912.3</td>\n",
       "      <td>64.40</td>\n",
       "      <td>185.0</td>\n",
       "      <td>0.4</td>\n",
       "      <td>260.0</td>\n",
       "      <td>1.0</td>\n",
       "      <td>100.0</td>\n",
       "      <td>0.1</td>\n",
       "      <td>0.0</td>\n",
       "      <td>0.0</td>\n",
       "      <td>58.8</td>\n",
       "    </tr>\n",
       "  </tbody>\n",
       "</table>\n",
       "</div>"
      ],
      "text/plain": [
       "   rowID     hpwren_timestamp  air_pressure  air_temp  avg_wind_direction  \\\n",
       "0      0  2011-09-10 00:00:49         912.3     64.76                97.0   \n",
       "1      1  2011-09-10 00:01:49         912.3     63.86               161.0   \n",
       "2      2  2011-09-10 00:02:49         912.3     64.22                77.0   \n",
       "3      3  2011-09-10 00:03:49         912.3     64.40                89.0   \n",
       "4      4  2011-09-10 00:04:49         912.3     64.40               185.0   \n",
       "\n",
       "   avg_wind_speed  max_wind_direction  max_wind_speed  min_wind_direction  \\\n",
       "0             1.2               106.0             1.6                85.0   \n",
       "1             0.8               215.0             1.5                43.0   \n",
       "2             0.7               143.0             1.2               324.0   \n",
       "3             1.2               112.0             1.6                12.0   \n",
       "4             0.4               260.0             1.0               100.0   \n",
       "\n",
       "   min_wind_speed  rain_accumulation  rain_duration  relative_humidity  \n",
       "0             1.0                NaN            NaN               60.5  \n",
       "1             0.2                0.0            0.0               39.9  \n",
       "2             0.3                0.0            0.0               43.0  \n",
       "3             0.7                0.0            0.0               49.5  \n",
       "4             0.1                0.0            0.0               58.8  "
      ]
     },
     "execution_count": 4,
     "metadata": {},
     "output_type": "execute_result"
    }
   ],
   "source": [
    "data.head()"
   ]
  },
  {
   "cell_type": "code",
   "execution_count": 5,
   "metadata": {},
   "outputs": [
    {
     "data": {
      "text/plain": [
       "rowID                 False\n",
       "hpwren_timestamp      False\n",
       "air_pressure          False\n",
       "air_temp              False\n",
       "avg_wind_direction     True\n",
       "avg_wind_speed         True\n",
       "max_wind_direction     True\n",
       "max_wind_speed         True\n",
       "min_wind_direction     True\n",
       "min_wind_speed         True\n",
       "rain_accumulation      True\n",
       "rain_duration          True\n",
       "relative_humidity     False\n",
       "dtype: bool"
      ]
     },
     "execution_count": 5,
     "metadata": {},
     "output_type": "execute_result"
    }
   ],
   "source": [
    "data.isnull().any(axis = 0)"
   ]
  },
  {
   "cell_type": "markdown",
   "metadata": {},
   "source": [
    "<p style=\"font-family: Arial; font-size:1.75em;color:purple; font-style:bold\"><br>\n",
    "\n",
    "Data Sampling<br></p>\n",
    "\n",
    "Lots of rows, so let us sample down by taking every 10th row. <br>\n"
   ]
  },
  {
   "cell_type": "code",
   "execution_count": 6,
   "metadata": {},
   "outputs": [
    {
     "data": {
      "text/plain": [
       "(158726, 13)"
      ]
     },
     "execution_count": 6,
     "metadata": {},
     "output_type": "execute_result"
    }
   ],
   "source": [
    "sampled_df = data[(data['rowID'] % 10) == 0]\n",
    "sampled_df.shape"
   ]
  },
  {
   "cell_type": "markdown",
   "metadata": {},
   "source": [
    "<p style=\"font-family: Arial; font-size:1.75em;color:purple; font-style:bold\"><br>\n",
    "\n",
    "Statistics\n",
    "<br><br></p>\n"
   ]
  },
  {
   "cell_type": "code",
   "execution_count": 7,
   "metadata": {},
   "outputs": [
    {
     "data": {
      "text/html": [
       "<div>\n",
       "<style>\n",
       "    .dataframe thead tr:only-child th {\n",
       "        text-align: right;\n",
       "    }\n",
       "\n",
       "    .dataframe thead th {\n",
       "        text-align: left;\n",
       "    }\n",
       "\n",
       "    .dataframe tbody tr th {\n",
       "        vertical-align: top;\n",
       "    }\n",
       "</style>\n",
       "<table border=\"1\" class=\"dataframe\">\n",
       "  <thead>\n",
       "    <tr style=\"text-align: right;\">\n",
       "      <th></th>\n",
       "      <th>count</th>\n",
       "      <th>mean</th>\n",
       "      <th>std</th>\n",
       "      <th>min</th>\n",
       "      <th>25%</th>\n",
       "      <th>50%</th>\n",
       "      <th>75%</th>\n",
       "      <th>max</th>\n",
       "    </tr>\n",
       "  </thead>\n",
       "  <tbody>\n",
       "    <tr>\n",
       "      <th>rowID</th>\n",
       "      <td>158726.0</td>\n",
       "      <td>793625.000000</td>\n",
       "      <td>458203.937509</td>\n",
       "      <td>0.00</td>\n",
       "      <td>396812.5</td>\n",
       "      <td>793625.00</td>\n",
       "      <td>1190437.50</td>\n",
       "      <td>1587250.00</td>\n",
       "    </tr>\n",
       "    <tr>\n",
       "      <th>air_pressure</th>\n",
       "      <td>158726.0</td>\n",
       "      <td>916.830161</td>\n",
       "      <td>3.051717</td>\n",
       "      <td>905.00</td>\n",
       "      <td>914.8</td>\n",
       "      <td>916.70</td>\n",
       "      <td>918.70</td>\n",
       "      <td>929.50</td>\n",
       "    </tr>\n",
       "    <tr>\n",
       "      <th>air_temp</th>\n",
       "      <td>158726.0</td>\n",
       "      <td>61.851589</td>\n",
       "      <td>11.833569</td>\n",
       "      <td>31.64</td>\n",
       "      <td>52.7</td>\n",
       "      <td>62.24</td>\n",
       "      <td>70.88</td>\n",
       "      <td>99.50</td>\n",
       "    </tr>\n",
       "    <tr>\n",
       "      <th>avg_wind_direction</th>\n",
       "      <td>158680.0</td>\n",
       "      <td>162.156100</td>\n",
       "      <td>95.278201</td>\n",
       "      <td>0.00</td>\n",
       "      <td>62.0</td>\n",
       "      <td>182.00</td>\n",
       "      <td>217.00</td>\n",
       "      <td>359.00</td>\n",
       "    </tr>\n",
       "    <tr>\n",
       "      <th>avg_wind_speed</th>\n",
       "      <td>158680.0</td>\n",
       "      <td>2.775215</td>\n",
       "      <td>2.057624</td>\n",
       "      <td>0.00</td>\n",
       "      <td>1.3</td>\n",
       "      <td>2.20</td>\n",
       "      <td>3.80</td>\n",
       "      <td>31.90</td>\n",
       "    </tr>\n",
       "    <tr>\n",
       "      <th>max_wind_direction</th>\n",
       "      <td>158680.0</td>\n",
       "      <td>163.462144</td>\n",
       "      <td>92.452139</td>\n",
       "      <td>0.00</td>\n",
       "      <td>68.0</td>\n",
       "      <td>187.00</td>\n",
       "      <td>223.00</td>\n",
       "      <td>359.00</td>\n",
       "    </tr>\n",
       "    <tr>\n",
       "      <th>max_wind_speed</th>\n",
       "      <td>158680.0</td>\n",
       "      <td>3.400558</td>\n",
       "      <td>2.418802</td>\n",
       "      <td>0.10</td>\n",
       "      <td>1.6</td>\n",
       "      <td>2.70</td>\n",
       "      <td>4.60</td>\n",
       "      <td>36.00</td>\n",
       "    </tr>\n",
       "    <tr>\n",
       "      <th>min_wind_direction</th>\n",
       "      <td>158680.0</td>\n",
       "      <td>166.774017</td>\n",
       "      <td>97.441109</td>\n",
       "      <td>0.00</td>\n",
       "      <td>76.0</td>\n",
       "      <td>180.00</td>\n",
       "      <td>212.00</td>\n",
       "      <td>359.00</td>\n",
       "    </tr>\n",
       "    <tr>\n",
       "      <th>min_wind_speed</th>\n",
       "      <td>158680.0</td>\n",
       "      <td>2.134664</td>\n",
       "      <td>1.742113</td>\n",
       "      <td>0.00</td>\n",
       "      <td>0.8</td>\n",
       "      <td>1.60</td>\n",
       "      <td>3.00</td>\n",
       "      <td>31.60</td>\n",
       "    </tr>\n",
       "    <tr>\n",
       "      <th>rain_accumulation</th>\n",
       "      <td>158725.0</td>\n",
       "      <td>0.000318</td>\n",
       "      <td>0.011236</td>\n",
       "      <td>0.00</td>\n",
       "      <td>0.0</td>\n",
       "      <td>0.00</td>\n",
       "      <td>0.00</td>\n",
       "      <td>3.12</td>\n",
       "    </tr>\n",
       "    <tr>\n",
       "      <th>rain_duration</th>\n",
       "      <td>158725.0</td>\n",
       "      <td>0.409627</td>\n",
       "      <td>8.665523</td>\n",
       "      <td>0.00</td>\n",
       "      <td>0.0</td>\n",
       "      <td>0.00</td>\n",
       "      <td>0.00</td>\n",
       "      <td>2960.00</td>\n",
       "    </tr>\n",
       "    <tr>\n",
       "      <th>relative_humidity</th>\n",
       "      <td>158726.0</td>\n",
       "      <td>47.609470</td>\n",
       "      <td>26.214409</td>\n",
       "      <td>0.90</td>\n",
       "      <td>24.7</td>\n",
       "      <td>44.70</td>\n",
       "      <td>68.00</td>\n",
       "      <td>93.00</td>\n",
       "    </tr>\n",
       "  </tbody>\n",
       "</table>\n",
       "</div>"
      ],
      "text/plain": [
       "                       count           mean            std     min       25%  \\\n",
       "rowID               158726.0  793625.000000  458203.937509    0.00  396812.5   \n",
       "air_pressure        158726.0     916.830161       3.051717  905.00     914.8   \n",
       "air_temp            158726.0      61.851589      11.833569   31.64      52.7   \n",
       "avg_wind_direction  158680.0     162.156100      95.278201    0.00      62.0   \n",
       "avg_wind_speed      158680.0       2.775215       2.057624    0.00       1.3   \n",
       "max_wind_direction  158680.0     163.462144      92.452139    0.00      68.0   \n",
       "max_wind_speed      158680.0       3.400558       2.418802    0.10       1.6   \n",
       "min_wind_direction  158680.0     166.774017      97.441109    0.00      76.0   \n",
       "min_wind_speed      158680.0       2.134664       1.742113    0.00       0.8   \n",
       "rain_accumulation   158725.0       0.000318       0.011236    0.00       0.0   \n",
       "rain_duration       158725.0       0.409627       8.665523    0.00       0.0   \n",
       "relative_humidity   158726.0      47.609470      26.214409    0.90      24.7   \n",
       "\n",
       "                          50%         75%         max  \n",
       "rowID               793625.00  1190437.50  1587250.00  \n",
       "air_pressure           916.70      918.70      929.50  \n",
       "air_temp                62.24       70.88       99.50  \n",
       "avg_wind_direction     182.00      217.00      359.00  \n",
       "avg_wind_speed           2.20        3.80       31.90  \n",
       "max_wind_direction     187.00      223.00      359.00  \n",
       "max_wind_speed           2.70        4.60       36.00  \n",
       "min_wind_direction     180.00      212.00      359.00  \n",
       "min_wind_speed           1.60        3.00       31.60  \n",
       "rain_accumulation        0.00        0.00        3.12  \n",
       "rain_duration            0.00        0.00     2960.00  \n",
       "relative_humidity       44.70       68.00       93.00  "
      ]
     },
     "execution_count": 7,
     "metadata": {},
     "output_type": "execute_result"
    }
   ],
   "source": [
    "sampled_df.describe().transpose()"
   ]
  },
  {
   "cell_type": "code",
   "execution_count": 8,
   "metadata": {},
   "outputs": [
    {
     "data": {
      "text/plain": [
       "(157812, 13)"
      ]
     },
     "execution_count": 8,
     "metadata": {},
     "output_type": "execute_result"
    }
   ],
   "source": [
    "sampled_df[sampled_df['rain_accumulation'] == 0].shape"
   ]
  },
  {
   "cell_type": "code",
   "execution_count": 9,
   "metadata": {},
   "outputs": [
    {
     "data": {
      "text/plain": [
       "(157237, 13)"
      ]
     },
     "execution_count": 9,
     "metadata": {},
     "output_type": "execute_result"
    }
   ],
   "source": [
    "sampled_df[sampled_df['rain_duration'] == 0].shape"
   ]
  },
  {
   "cell_type": "markdown",
   "metadata": {},
   "source": [
    "<p style=\"font-family: Arial; font-size:1.75em;color:purple; font-style:bold\"><br>\n",
    "\n",
    "Drop all the Rows with Empty rain_duration and rain_accumulation\n",
    "<br><br></p>\n"
   ]
  },
  {
   "cell_type": "code",
   "execution_count": 10,
   "metadata": {
    "collapsed": true
   },
   "outputs": [],
   "source": [
    "del sampled_df['rain_accumulation']\n",
    "del sampled_df['rain_duration']"
   ]
  },
  {
   "cell_type": "code",
   "execution_count": 11,
   "metadata": {
    "collapsed": true
   },
   "outputs": [],
   "source": [
    "rows_before = sampled_df.shape[0]\n",
    "sampled_df = sampled_df.dropna()\n",
    "rows_after = sampled_df.shape[0]"
   ]
  },
  {
   "cell_type": "markdown",
   "metadata": {},
   "source": [
    "<p style=\"font-family: Arial; font-size:1.75em;color:purple; font-style:bold\"><br>\n",
    "\n",
    "How many rows did we drop ?\n",
    "<br><br></p>\n"
   ]
  },
  {
   "cell_type": "code",
   "execution_count": 12,
   "metadata": {},
   "outputs": [
    {
     "data": {
      "text/plain": [
       "46"
      ]
     },
     "execution_count": 12,
     "metadata": {},
     "output_type": "execute_result"
    }
   ],
   "source": [
    "rows_before - rows_after"
   ]
  },
  {
   "cell_type": "code",
   "execution_count": 13,
   "metadata": {
    "scrolled": true
   },
   "outputs": [
    {
     "data": {
      "text/plain": [
       "Index(['rowID', 'hpwren_timestamp', 'air_pressure', 'air_temp',\n",
       "       'avg_wind_direction', 'avg_wind_speed', 'max_wind_direction',\n",
       "       'max_wind_speed', 'min_wind_direction', 'min_wind_speed',\n",
       "       'relative_humidity'],\n",
       "      dtype='object')"
      ]
     },
     "execution_count": 13,
     "metadata": {},
     "output_type": "execute_result"
    }
   ],
   "source": [
    "sampled_df.columns"
   ]
  },
  {
   "cell_type": "code",
   "execution_count": 14,
   "metadata": {},
   "outputs": [
    {
     "data": {
      "text/plain": [
       "(158680, 11)"
      ]
     },
     "execution_count": 14,
     "metadata": {},
     "output_type": "execute_result"
    }
   ],
   "source": [
    "sampled_df.shape"
   ]
  },
  {
   "cell_type": "markdown",
   "metadata": {},
   "source": [
    "<p style=\"font-family: Arial; font-size:1.75em;color:purple; font-style:bold\"><br>\n",
    "\n",
    "Select Features of Interest for Clustering\n",
    "<br><br></p>\n"
   ]
  },
  {
   "cell_type": "code",
   "execution_count": 15,
   "metadata": {
    "collapsed": true
   },
   "outputs": [],
   "source": [
    "features = ['air_pressure', 'air_temp', 'avg_wind_direction', 'avg_wind_speed', 'max_wind_direction', \n",
    "        'max_wind_speed','relative_humidity']"
   ]
  },
  {
   "cell_type": "code",
   "execution_count": 16,
   "metadata": {
    "collapsed": true
   },
   "outputs": [],
   "source": [
    "select_df = sampled_df[features]"
   ]
  },
  {
   "cell_type": "code",
   "execution_count": 17,
   "metadata": {},
   "outputs": [
    {
     "data": {
      "text/plain": [
       "Index(['air_pressure', 'air_temp', 'avg_wind_direction', 'avg_wind_speed',\n",
       "       'max_wind_direction', 'max_wind_speed', 'relative_humidity'],\n",
       "      dtype='object')"
      ]
     },
     "execution_count": 17,
     "metadata": {},
     "output_type": "execute_result"
    }
   ],
   "source": [
    "select_df.columns"
   ]
  },
  {
   "cell_type": "code",
   "execution_count": 18,
   "metadata": {},
   "outputs": [
    {
     "data": {
      "text/html": [
       "<div>\n",
       "<style>\n",
       "    .dataframe thead tr:only-child th {\n",
       "        text-align: right;\n",
       "    }\n",
       "\n",
       "    .dataframe thead th {\n",
       "        text-align: left;\n",
       "    }\n",
       "\n",
       "    .dataframe tbody tr th {\n",
       "        vertical-align: top;\n",
       "    }\n",
       "</style>\n",
       "<table border=\"1\" class=\"dataframe\">\n",
       "  <thead>\n",
       "    <tr style=\"text-align: right;\">\n",
       "      <th></th>\n",
       "      <th>air_pressure</th>\n",
       "      <th>air_temp</th>\n",
       "      <th>avg_wind_direction</th>\n",
       "      <th>avg_wind_speed</th>\n",
       "      <th>max_wind_direction</th>\n",
       "      <th>max_wind_speed</th>\n",
       "      <th>relative_humidity</th>\n",
       "    </tr>\n",
       "  </thead>\n",
       "  <tbody>\n",
       "    <tr>\n",
       "      <th>0</th>\n",
       "      <td>912.3</td>\n",
       "      <td>64.76</td>\n",
       "      <td>97.0</td>\n",
       "      <td>1.2</td>\n",
       "      <td>106.0</td>\n",
       "      <td>1.6</td>\n",
       "      <td>60.5</td>\n",
       "    </tr>\n",
       "    <tr>\n",
       "      <th>10</th>\n",
       "      <td>912.3</td>\n",
       "      <td>62.24</td>\n",
       "      <td>144.0</td>\n",
       "      <td>1.2</td>\n",
       "      <td>167.0</td>\n",
       "      <td>1.8</td>\n",
       "      <td>38.5</td>\n",
       "    </tr>\n",
       "    <tr>\n",
       "      <th>20</th>\n",
       "      <td>912.2</td>\n",
       "      <td>63.32</td>\n",
       "      <td>100.0</td>\n",
       "      <td>2.0</td>\n",
       "      <td>122.0</td>\n",
       "      <td>2.5</td>\n",
       "      <td>58.3</td>\n",
       "    </tr>\n",
       "    <tr>\n",
       "      <th>30</th>\n",
       "      <td>912.2</td>\n",
       "      <td>62.60</td>\n",
       "      <td>91.0</td>\n",
       "      <td>2.0</td>\n",
       "      <td>103.0</td>\n",
       "      <td>2.4</td>\n",
       "      <td>57.9</td>\n",
       "    </tr>\n",
       "    <tr>\n",
       "      <th>40</th>\n",
       "      <td>912.2</td>\n",
       "      <td>64.04</td>\n",
       "      <td>81.0</td>\n",
       "      <td>2.6</td>\n",
       "      <td>88.0</td>\n",
       "      <td>2.9</td>\n",
       "      <td>57.4</td>\n",
       "    </tr>\n",
       "  </tbody>\n",
       "</table>\n",
       "</div>"
      ],
      "text/plain": [
       "    air_pressure  air_temp  avg_wind_direction  avg_wind_speed  \\\n",
       "0          912.3     64.76                97.0             1.2   \n",
       "10         912.3     62.24               144.0             1.2   \n",
       "20         912.2     63.32               100.0             2.0   \n",
       "30         912.2     62.60                91.0             2.0   \n",
       "40         912.2     64.04                81.0             2.6   \n",
       "\n",
       "    max_wind_direction  max_wind_speed  relative_humidity  \n",
       "0                106.0             1.6               60.5  \n",
       "10               167.0             1.8               38.5  \n",
       "20               122.0             2.5               58.3  \n",
       "30               103.0             2.4               57.9  \n",
       "40                88.0             2.9               57.4  "
      ]
     },
     "execution_count": 18,
     "metadata": {},
     "output_type": "execute_result"
    }
   ],
   "source": [
    "select_df.head()"
   ]
  },
  {
   "cell_type": "markdown",
   "metadata": {},
   "source": [
    "<p style=\"font-family: Arial; font-size:1.75em;color:purple; font-style:bold\"><br>\n",
    "\n",
    "Scale the Features using StandardScaler\n",
    "<br><br></p>\n"
   ]
  },
  {
   "cell_type": "code",
   "execution_count": 19,
   "metadata": {},
   "outputs": [
    {
     "data": {
      "text/plain": [
       "array([[-1.48456281,  0.24544455, -0.68385323, ..., -0.62153592,\n",
       "        -0.74440309,  0.49233835],\n",
       "       [-1.48456281,  0.03247142, -0.19055941, ...,  0.03826701,\n",
       "        -0.66171726, -0.34710804],\n",
       "       [-1.51733167,  0.12374562, -0.65236639, ..., -0.44847286,\n",
       "        -0.37231683,  0.40839371],\n",
       "       ..., \n",
       "       [-0.30488381,  1.15818654,  1.90856325, ...,  2.0393087 ,\n",
       "        -0.70306017,  0.01538018],\n",
       "       [-0.30488381,  1.12776181,  2.06599745, ..., -1.67073075,\n",
       "        -0.74440309, -0.04948614],\n",
       "       [-0.30488381,  1.09733708, -1.63895404, ..., -1.55174989,\n",
       "        -0.62037434, -0.05711747]])"
      ]
     },
     "execution_count": 19,
     "metadata": {},
     "output_type": "execute_result"
    }
   ],
   "source": [
    "X = StandardScaler().fit_transform(select_df)\n",
    "X"
   ]
  },
  {
   "cell_type": "markdown",
   "metadata": {},
   "source": [
    "<p style=\"font-family: Arial; font-size:1.75em;color:purple; font-style:bold\"><br>\n",
    "\n",
    "Use k-Means Clustering\n",
    "<br><br></p>\n"
   ]
  },
  {
   "cell_type": "code",
   "execution_count": 20,
   "metadata": {},
   "outputs": [
    {
     "name": "stdout",
     "output_type": "stream",
     "text": [
      "model\n",
      " KMeans(algorithm='auto', copy_x=True, init='k-means++', max_iter=300,\n",
      "    n_clusters=12, n_init=10, n_jobs=1, precompute_distances='auto',\n",
      "    random_state=None, tol=0.0001, verbose=0)\n"
     ]
    }
   ],
   "source": [
    "kmeans = KMeans(n_clusters=12)\n",
    "model = kmeans.fit(X)\n",
    "print(\"model\\n\", model)"
   ]
  },
  {
   "cell_type": "markdown",
   "metadata": {},
   "source": [
    "<p style=\"font-family: Arial; font-size:1.75em;color:purple; font-style:bold\"><br>\n",
    "\n",
    "What are the centers of 12 clusters we formed ?\n",
    "<br><br></p>\n"
   ]
  },
  {
   "cell_type": "code",
   "execution_count": 21,
   "metadata": {
    "scrolled": true
   },
   "outputs": [
    {
     "data": {
      "text/plain": [
       "array([[ 1.18984935, -0.25485028, -1.15497786,  2.12621668, -1.05348987,\n",
       "         2.24320671, -1.13475959],\n",
       "       [-0.21473293,  0.63236167,  0.40821149,  0.73539055,  0.51628969,\n",
       "         0.67321558, -0.14928112],\n",
       "       [ 0.75341815,  0.40517675,  0.29120742, -0.52708493,  0.47827975,\n",
       "        -0.53305684, -0.76843963],\n",
       "       [ 0.2358884 , -0.9958084 ,  0.65850628, -0.54928298,  0.84862288,\n",
       "        -0.53200127,  1.16609493],\n",
       "       [-0.68161104,  0.56181762,  0.1793923 , -0.58698334,  0.34943454,\n",
       "        -0.60033611, -0.12930889],\n",
       "       [-1.18352452, -0.87273759,  0.44705465,  1.981885  ,  0.53867058,\n",
       "         1.94315313,  0.91067924],\n",
       "       [ 0.05774186, -0.78540997, -1.19599298, -0.57123517, -1.041964  ,\n",
       "        -0.58577787,  0.87630416],\n",
       "       [-0.16043591,  0.86267603, -1.31023895, -0.59008275, -1.16581944,\n",
       "        -0.60538404, -0.64348289],\n",
       "       [ 0.12976024,  0.84713551,  1.4101425 , -0.63834023,  1.67447395,\n",
       "        -0.58913634, -0.71417411],\n",
       "       [ 1.36953737, -0.08313411, -1.20730445, -0.04518277, -1.07631235,\n",
       "        -0.02463931, -0.9776628 ],\n",
       "       [-0.83643619, -1.19785892,  0.37444008,  0.36731537,  0.47275968,\n",
       "         0.35512932,  1.35910245],\n",
       "       [ 0.23380635,  0.32025785,  1.88785757, -0.65187638, -1.55176624,\n",
       "        -0.57675056, -0.28388426]])"
      ]
     },
     "execution_count": 21,
     "metadata": {},
     "output_type": "execute_result"
    }
   ],
   "source": [
    "centers = model.cluster_centers_\n",
    "centers"
   ]
  },
  {
   "cell_type": "markdown",
   "metadata": {},
   "source": [
    "<p style=\"font-family: Arial; font-size:2.75em;color:purple; font-style:bold\"><br>\n",
    "\n",
    "Plots\n",
    "<br><br></p>\n"
   ]
  },
  {
   "cell_type": "markdown",
   "metadata": {},
   "source": [
    "Let us first create some utility functions which will help us in plotting graphs:"
   ]
  },
  {
   "cell_type": "code",
   "execution_count": 22,
   "metadata": {
    "collapsed": true
   },
   "outputs": [],
   "source": [
    "# Function that creates a DataFrame with a column for Cluster Number\n",
    "\n",
    "def pd_centers(featuresUsed, centers):\n",
    "\tcolNames = list(featuresUsed)\n",
    "\tcolNames.append('prediction')\n",
    "\n",
    "\t# Zip with a column called 'prediction' (index)\n",
    "\tZ = [np.append(A, index) for index, A in enumerate(centers)]\n",
    "\n",
    "\t# Convert to pandas data frame for plotting\n",
    "\tP = pd.DataFrame(Z, columns=colNames)\n",
    "\tP['prediction'] = P['prediction'].astype(int)\n",
    "\treturn P"
   ]
  },
  {
   "cell_type": "code",
   "execution_count": 23,
   "metadata": {
    "collapsed": true
   },
   "outputs": [],
   "source": [
    "# Function that creates Parallel Plots\n",
    "\n",
    "def parallel_plot(data):\n",
    "\tmy_colors = list(islice(cycle(['b', 'r', 'g', 'y', 'k']), None, len(data)))\n",
    "\tplt.figure(figsize=(15,8)).gca().axes.set_ylim([-3,+3])\n",
    "\tparallel_coordinates(data, 'prediction', color = my_colors, marker='o')"
   ]
  },
  {
   "cell_type": "code",
   "execution_count": 24,
   "metadata": {
    "scrolled": false
   },
   "outputs": [
    {
     "data": {
      "text/html": [
       "<div>\n",
       "<style>\n",
       "    .dataframe thead tr:only-child th {\n",
       "        text-align: right;\n",
       "    }\n",
       "\n",
       "    .dataframe thead th {\n",
       "        text-align: left;\n",
       "    }\n",
       "\n",
       "    .dataframe tbody tr th {\n",
       "        vertical-align: top;\n",
       "    }\n",
       "</style>\n",
       "<table border=\"1\" class=\"dataframe\">\n",
       "  <thead>\n",
       "    <tr style=\"text-align: right;\">\n",
       "      <th></th>\n",
       "      <th>air_pressure</th>\n",
       "      <th>air_temp</th>\n",
       "      <th>avg_wind_direction</th>\n",
       "      <th>avg_wind_speed</th>\n",
       "      <th>max_wind_direction</th>\n",
       "      <th>max_wind_speed</th>\n",
       "      <th>relative_humidity</th>\n",
       "      <th>prediction</th>\n",
       "    </tr>\n",
       "  </thead>\n",
       "  <tbody>\n",
       "    <tr>\n",
       "      <th>0</th>\n",
       "      <td>1.189849</td>\n",
       "      <td>-0.254850</td>\n",
       "      <td>-1.154978</td>\n",
       "      <td>2.126217</td>\n",
       "      <td>-1.053490</td>\n",
       "      <td>2.243207</td>\n",
       "      <td>-1.134760</td>\n",
       "      <td>0</td>\n",
       "    </tr>\n",
       "    <tr>\n",
       "      <th>1</th>\n",
       "      <td>-0.214733</td>\n",
       "      <td>0.632362</td>\n",
       "      <td>0.408211</td>\n",
       "      <td>0.735391</td>\n",
       "      <td>0.516290</td>\n",
       "      <td>0.673216</td>\n",
       "      <td>-0.149281</td>\n",
       "      <td>1</td>\n",
       "    </tr>\n",
       "    <tr>\n",
       "      <th>2</th>\n",
       "      <td>0.753418</td>\n",
       "      <td>0.405177</td>\n",
       "      <td>0.291207</td>\n",
       "      <td>-0.527085</td>\n",
       "      <td>0.478280</td>\n",
       "      <td>-0.533057</td>\n",
       "      <td>-0.768440</td>\n",
       "      <td>2</td>\n",
       "    </tr>\n",
       "    <tr>\n",
       "      <th>3</th>\n",
       "      <td>0.235888</td>\n",
       "      <td>-0.995808</td>\n",
       "      <td>0.658506</td>\n",
       "      <td>-0.549283</td>\n",
       "      <td>0.848623</td>\n",
       "      <td>-0.532001</td>\n",
       "      <td>1.166095</td>\n",
       "      <td>3</td>\n",
       "    </tr>\n",
       "    <tr>\n",
       "      <th>4</th>\n",
       "      <td>-0.681611</td>\n",
       "      <td>0.561818</td>\n",
       "      <td>0.179392</td>\n",
       "      <td>-0.586983</td>\n",
       "      <td>0.349435</td>\n",
       "      <td>-0.600336</td>\n",
       "      <td>-0.129309</td>\n",
       "      <td>4</td>\n",
       "    </tr>\n",
       "    <tr>\n",
       "      <th>5</th>\n",
       "      <td>-1.183525</td>\n",
       "      <td>-0.872738</td>\n",
       "      <td>0.447055</td>\n",
       "      <td>1.981885</td>\n",
       "      <td>0.538671</td>\n",
       "      <td>1.943153</td>\n",
       "      <td>0.910679</td>\n",
       "      <td>5</td>\n",
       "    </tr>\n",
       "    <tr>\n",
       "      <th>6</th>\n",
       "      <td>0.057742</td>\n",
       "      <td>-0.785410</td>\n",
       "      <td>-1.195993</td>\n",
       "      <td>-0.571235</td>\n",
       "      <td>-1.041964</td>\n",
       "      <td>-0.585778</td>\n",
       "      <td>0.876304</td>\n",
       "      <td>6</td>\n",
       "    </tr>\n",
       "    <tr>\n",
       "      <th>7</th>\n",
       "      <td>-0.160436</td>\n",
       "      <td>0.862676</td>\n",
       "      <td>-1.310239</td>\n",
       "      <td>-0.590083</td>\n",
       "      <td>-1.165819</td>\n",
       "      <td>-0.605384</td>\n",
       "      <td>-0.643483</td>\n",
       "      <td>7</td>\n",
       "    </tr>\n",
       "    <tr>\n",
       "      <th>8</th>\n",
       "      <td>0.129760</td>\n",
       "      <td>0.847136</td>\n",
       "      <td>1.410142</td>\n",
       "      <td>-0.638340</td>\n",
       "      <td>1.674474</td>\n",
       "      <td>-0.589136</td>\n",
       "      <td>-0.714174</td>\n",
       "      <td>8</td>\n",
       "    </tr>\n",
       "    <tr>\n",
       "      <th>9</th>\n",
       "      <td>1.369537</td>\n",
       "      <td>-0.083134</td>\n",
       "      <td>-1.207304</td>\n",
       "      <td>-0.045183</td>\n",
       "      <td>-1.076312</td>\n",
       "      <td>-0.024639</td>\n",
       "      <td>-0.977663</td>\n",
       "      <td>9</td>\n",
       "    </tr>\n",
       "    <tr>\n",
       "      <th>10</th>\n",
       "      <td>-0.836436</td>\n",
       "      <td>-1.197859</td>\n",
       "      <td>0.374440</td>\n",
       "      <td>0.367315</td>\n",
       "      <td>0.472760</td>\n",
       "      <td>0.355129</td>\n",
       "      <td>1.359102</td>\n",
       "      <td>10</td>\n",
       "    </tr>\n",
       "    <tr>\n",
       "      <th>11</th>\n",
       "      <td>0.233806</td>\n",
       "      <td>0.320258</td>\n",
       "      <td>1.887858</td>\n",
       "      <td>-0.651876</td>\n",
       "      <td>-1.551766</td>\n",
       "      <td>-0.576751</td>\n",
       "      <td>-0.283884</td>\n",
       "      <td>11</td>\n",
       "    </tr>\n",
       "  </tbody>\n",
       "</table>\n",
       "</div>"
      ],
      "text/plain": [
       "    air_pressure  air_temp  avg_wind_direction  avg_wind_speed  \\\n",
       "0       1.189849 -0.254850           -1.154978        2.126217   \n",
       "1      -0.214733  0.632362            0.408211        0.735391   \n",
       "2       0.753418  0.405177            0.291207       -0.527085   \n",
       "3       0.235888 -0.995808            0.658506       -0.549283   \n",
       "4      -0.681611  0.561818            0.179392       -0.586983   \n",
       "5      -1.183525 -0.872738            0.447055        1.981885   \n",
       "6       0.057742 -0.785410           -1.195993       -0.571235   \n",
       "7      -0.160436  0.862676           -1.310239       -0.590083   \n",
       "8       0.129760  0.847136            1.410142       -0.638340   \n",
       "9       1.369537 -0.083134           -1.207304       -0.045183   \n",
       "10     -0.836436 -1.197859            0.374440        0.367315   \n",
       "11      0.233806  0.320258            1.887858       -0.651876   \n",
       "\n",
       "    max_wind_direction  max_wind_speed  relative_humidity  prediction  \n",
       "0            -1.053490        2.243207          -1.134760           0  \n",
       "1             0.516290        0.673216          -0.149281           1  \n",
       "2             0.478280       -0.533057          -0.768440           2  \n",
       "3             0.848623       -0.532001           1.166095           3  \n",
       "4             0.349435       -0.600336          -0.129309           4  \n",
       "5             0.538671        1.943153           0.910679           5  \n",
       "6            -1.041964       -0.585778           0.876304           6  \n",
       "7            -1.165819       -0.605384          -0.643483           7  \n",
       "8             1.674474       -0.589136          -0.714174           8  \n",
       "9            -1.076312       -0.024639          -0.977663           9  \n",
       "10            0.472760        0.355129           1.359102          10  \n",
       "11           -1.551766       -0.576751          -0.283884          11  "
      ]
     },
     "execution_count": 24,
     "metadata": {},
     "output_type": "execute_result"
    }
   ],
   "source": [
    "P = pd_centers(features, centers)\n",
    "P"
   ]
  },
  {
   "cell_type": "markdown",
   "metadata": {},
   "source": [
    "# Dry Days"
   ]
  },
  {
   "cell_type": "code",
   "execution_count": 26,
   "metadata": {},
   "outputs": [
    {
     "name": "stderr",
     "output_type": "stream",
     "text": [
      "C:\\Users\\Chen\\AppData\\Local\\Continuum\\Anaconda3\\lib\\site-packages\\ipykernel_launcher.py:6: FutureWarning: 'pandas.tools.plotting.parallel_coordinates' is deprecated, import 'pandas.plotting.parallel_coordinates' instead.\n",
      "  \n"
     ]
    },
    {
     "data": {
      "image/png": "[encoded data removed]",
      "text/plain": [
       "<matplotlib.figure.Figure at 0x185bc48edd8>"
      ]
     },
     "metadata": {},
     "output_type": "display_data"
    }
   ],
   "source": [
    "parallel_plot(P[P['relative_humidity'] < -0.5])"
   ]
  },
  {
   "cell_type": "markdown",
   "metadata": {},
   "source": [
    "# Warm Days"
   ]
  },
  {
   "cell_type": "code",
   "execution_count": 43,
   "metadata": {},
   "outputs": [
    {
     "name": "stderr",
     "output_type": "stream",
     "text": [
      "C:\\Users\\Chen\\AppData\\Local\\Continuum\\Anaconda3\\lib\\site-packages\\ipykernel_launcher.py:6: FutureWarning: 'pandas.tools.plotting.parallel_coordinates' is deprecated, import 'pandas.plotting.parallel_coordinates' instead.\n",
      "  \n"
     ]
    },
    {
     "data": {
      "image/png": "[encoded data removed]",
      "text/plain": [
       "<matplotlib.figure.Figure at 0x24e8a45e128>"
      ]
     },
     "metadata": {},
     "output_type": "display_data"
    }
   ],
   "source": [
    "parallel_plot(P[P['air_temp'] > 0.5])"
   ]
  },
  {
   "cell_type": "markdown",
   "metadata": {},
   "source": [
    "# Cool Days"
   ]
  },
  {
   "cell_type": "code",
   "execution_count": 27,
   "metadata": {},
   "outputs": [
    {
     "name": "stderr",
     "output_type": "stream",
     "text": [
      "C:\\Users\\Chen\\AppData\\Local\\Continuum\\Anaconda3\\lib\\site-packages\\ipykernel_launcher.py:6: FutureWarning: 'pandas.tools.plotting.parallel_coordinates' is deprecated, import 'pandas.plotting.parallel_coordinates' instead.\n",
      "  \n"
     ]
    },
    {
     "data": {
      "image/png": "[encoded data removed]",
      "text/plain": [
       "<matplotlib.figure.Figure at 0x185bc958be0>"
      ]
     },
     "metadata": {},
     "output_type": "display_data"
    }
   ],
   "source": [
    "parallel_plot(P[(P['relative_humidity'] > 0.5) & (P['air_temp'] < 0.5)])"
   ]
  },
  {
   "cell_type": "code",
   "execution_count": null,
   "metadata": {
    "collapsed": true
   },
   "outputs": [],
   "source": []
  }
 ],
 "metadata": {
  "kernelspec": {
   "display_name": "Python 3",
   "language": "python",
   "name": "python3"
  },
  "language_info": {
   "codemirror_mode": {
    "name": "ipython",
    "version": 3
   },
   "file_extension": ".py",
   "mimetype": "text/x-python",
   "name": "python",
   "nbconvert_exporter": "python",
   "pygments_lexer": "ipython3",
   "version": "3.6.1"
  }
 },
 "nbformat": 4,
 "nbformat_minor": 2
}
